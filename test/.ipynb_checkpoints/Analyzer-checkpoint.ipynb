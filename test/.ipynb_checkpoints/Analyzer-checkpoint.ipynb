{
 "cells": [
  {
   "cell_type": "code",
   "execution_count": 219,
   "metadata": {},
   "outputs": [],
   "source": [
    "import numpy as np\n",
    "import pandas as pd\n",
    "import requests as req\n",
    "import time\n",
    "import re\n",
    "import glob\n",
    "import os\n",
    "import subprocess\n",
    "from bs4 import BeautifulSoup"
   ]
  },
  {
   "cell_type": "code",
   "execution_count": 200,
   "metadata": {
    "scrolled": false
   },
   "outputs": [],
   "source": [
    "### Download Smart Contract Meta Data\n",
    "if False:\n",
    "    MAX_PAGE = 1000\n",
    "    AT_PAGE = 0\n",
    "    contracts = {\"address\": [], \"block_number\": [], \"ether\": [], \"has_source\": [] }\n",
    "    base_url = \"https://contract-library.com/api/contracts?\"\n",
    "    for idx in range(MAX_PAGE - AT_PAGE):\n",
    "        ### Start Downloading\n",
    "        page_number = idx + 1 + AT_PAGE\n",
    "        end_point = \"{0}n=Ethereum&q=&t=address&s=block_number&o=desc&p={1}&c=100&w=\".format(base_url, page_number)\n",
    "        r = req.get(end_point)\n",
    "        assert(r.status_code == 200)\n",
    "        print(\"=> page_number: {}\".format(page_number))\n",
    "        json = r.json()\n",
    "        for contract in json[\"contracts\"]:\n",
    "            contracts[\"address\"].append(contract[\"address\"])\n",
    "            contracts[\"block_number\"].append(contract[\"block_number\"])\n",
    "            contracts[\"ether\"].append(contract[\"ether\"])\n",
    "            contracts[\"has_source\"].append(contract[\"has_source\"])\n",
    "        ## Write Fragment\n",
    "        if page_number % 100 == 0:\n",
    "            csv_file = \"assets/addr_{}.csv\".format(int(page_number / 100))\n",
    "            df = pd.DataFrame(contracts)\n",
    "            df.to_csv(csv_file, header=None, index=False)\n",
    "            print(\"=> write to {}\".format(csv_file))\n",
    "            print(\"=> sleep 2 seconds\")\n",
    "            time.sleep(2)\n",
    "            ### Clear Contract Data\n",
    "            contracts[\"address\"] = []\n",
    "            contracts[\"block_number\"] = []\n",
    "            contracts[\"ether\"] = []\n",
    "            contracts[\"has_source\"] = []"
   ]
  },
  {
   "cell_type": "code",
   "execution_count": 201,
   "metadata": {},
   "outputs": [
    {
     "name": "stdout",
     "output_type": "stream",
     "text": [
      "['0.4.18', '0.4.19', '0.4.20', '0.4.21', '0.4.22', '0.4.23', '0.4.24', '0.4.25', '0.5.0', '0.5.1', '0.5.2', '0.5.3', '0.5.4', '0.5.5', '0.5.6', '0.5.7', '0.5.8', '0.5.9', '0.5.10', '0.5.11', '0.5.12', '0.5.13', '0.5.14', '0.5.15', '0.5.16', '0.6.0', '0.6.1', '0.6.2', '0.6.3']\n"
     ]
    }
   ],
   "source": [
    "versions = []\n",
    "if True:\n",
    "    for i in range(25 - 18 + 1):\n",
    "        versions.append(\"0.4.{}\".format(i + 18))\n",
    "    for i in range(16 - 0 + 1):\n",
    "        versions.append(\"0.5.{}\".format(i))\n",
    "    for i in range(3 + 1):\n",
    "        versions.append(\"0.6.{}\".format(i))\n",
    "    print(versions)"
   ]
  },
  {
   "cell_type": "code",
   "execution_count": 202,
   "metadata": {},
   "outputs": [],
   "source": [
    "if False:\n",
    "    df = pd.read_csv(\n",
    "        \"assets/addr.csv\",\n",
    "        header=None,\n",
    "        names=[\"address\", \"block_number\", \"ether\", \"has_source\"],\n",
    "    )\n",
    "    df_with_source = df[(df.has_source == True)]\n",
    "    print(df_with_source.describe())\n",
    "    for address in df_with_source[\"address\"]:\n",
    "        end_point = \"https://etherscan.io/address/{}#code\".format(address)\n",
    "        r = req.get(end_point, headers={\"user-agent\": \"Mozilla/5.0 (Macintosh; Intel Mac OS X 10_15_3) AppleWebKit/537.36 (KHTML, like Gecko) Chrome/81.0.4044.113 Safari/537.36\"})\n",
    "        assert(r.status_code == 200)\n",
    "        print(\"=> address: {}\".format(address))\n",
    "        soup = BeautifulSoup(r.text, 'html.parser')\n",
    "        editor = soup.find(id=\"editor\")\n",
    "        match = re.findall(r\"pragma(\\s+)solidity(\\s+)[^\\d]*((\\d+\\.?)+)\", editor.text)\n",
    "        print(match)\n",
    "        if len(match) > 0 and len(match[0]) > 2:\n",
    "            version = match[0][2]\n",
    "            if version in versions:\n",
    "                with open(\"contracts/{}_{}\".format(address, version), \"w\") as f:\n",
    "                    f.write(editor.text)"
   ]
  },
  {
   "cell_type": "code",
   "execution_count": 234,
   "metadata": {},
   "outputs": [
    {
     "name": "stdout",
     "output_type": "stream",
     "text": [
      "contracts/0x002c97933d0976dbcf51c0e8f8a3e64d8fd9d296_0.4.18\n"
     ]
    }
   ],
   "source": [
    "if True:\n",
    "    files = !ls contracts/0x*\n",
    "    for file in files[:1]:\n",
    "        a = file.split('_')"
   ]
  },
  {
   "cell_type": "code",
   "execution_count": null,
   "metadata": {},
   "outputs": [],
   "source": []
  }
 ],
 "metadata": {
  "kernelspec": {
   "display_name": "Python 3",
   "language": "python",
   "name": "python3"
  },
  "language_info": {
   "codemirror_mode": {
    "name": "ipython",
    "version": 3
   },
   "file_extension": ".py",
   "mimetype": "text/x-python",
   "name": "python",
   "nbconvert_exporter": "python",
   "pygments_lexer": "ipython3",
   "version": "3.7.7"
  }
 },
 "nbformat": 4,
 "nbformat_minor": 4
}
