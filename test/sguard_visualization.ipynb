{
 "cells": [
  {
   "cell_type": "code",
   "execution_count": 2,
   "metadata": {},
   "outputs": [],
   "source": [
    "import numpy as np\n",
    "import pandas as pd\n",
    "import matplotlib\n",
    "import matplotlib.pyplot as plt\n",
    "import os"
   ]
  },
  {
   "cell_type": "markdown",
   "metadata": {},
   "source": [
    "# 0. Dataset"
   ]
  },
  {
   "cell_type": "code",
   "execution_count": 2,
   "metadata": {},
   "outputs": [
    {
     "name": "stdout",
     "output_type": "stream",
     "text": [
      "(100000, 4)\n",
      "9580268\n",
      "9927613\n"
     ]
    }
   ],
   "source": [
    "if True:\n",
    "    addr_path = \"assets/addr.csv\"\n",
    "    df = pd.read_csv(\n",
    "        addr_path,\n",
    "        header=None,\n",
    "        names=[\"address\", \"block_number\", \"ether\", \"has_source\"]\n",
    "    )\n",
    "    print(df.shape)\n",
    "    print(df[\"block_number\"].min())\n",
    "    print(df[\"block_number\"].max())"
   ]
  },
  {
   "cell_type": "markdown",
   "metadata": {},
   "source": [
    "# 0.1 Merge csv file"
   ]
  },
  {
   "cell_type": "code",
   "execution_count": 3,
   "metadata": {},
   "outputs": [],
   "source": [
    "if False:\n",
    "    files = os.listdir(\"results/\")\n",
    "    evm_files = list(filter(lambda x: x.startswith(\"sym_evm\"), files))\n",
    "    exception_files = list(filter(lambda x: x.startswith(\"exception\"), files))\n",
    "    ##\n",
    "    evm_dfs = []\n",
    "    for f in evm_files:\n",
    "        df = pd.read_csv(\"results/\" + f)\n",
    "        evm_dfs.append(df)\n",
    "    evm_df = pd.concat(evm_dfs)\n",
    "    print(evm_df.shape)\n",
    "    evm_df.to_csv(\"results/sym_evm.csv\", index=False)\n",
    "    ##\n",
    "    exception_dfs = []\n",
    "    for f in exception_files:\n",
    "        df = pd.read_csv(\"results/\" + f)\n",
    "        exception_dfs.append(df)\n",
    "    exception_df = pd.concat(exception_dfs)\n",
    "    print(exception_df.shape)\n",
    "    exception_df.to_csv(\"results/exception.csv\", index=False)\n",
    "    "
   ]
  },
  {
   "cell_type": "markdown",
   "metadata": {},
   "source": [
    "# 0.2 Summary"
   ]
  },
  {
   "cell_type": "code",
   "execution_count": 86,
   "metadata": {},
   "outputs": [
    {
     "name": "stdout",
     "output_type": "stream",
     "text": [
      "No entry: 123 - 12\n",
      "OK: 500 - 47\n",
      "Failed: 433 - 41\n",
      "Heap: 2\n",
      "Timeout: 392\n",
      "AST: 39\n",
      "under_95: 15\n",
      "over_95 : 485\n"
     ]
    }
   ],
   "source": [
    "if True:\n",
    "    total = 1056\n",
    "    dfs = [\n",
    "        pd.read_csv(\"results/sym_evm.csv\"),\n",
    "        pd.read_csv(\"results/exception.csv\"),\n",
    "    ]\n",
    "    [df_evm, df_exception] = dfs\n",
    "    no_entry = total - df_evm.shape[0] - df_exception.shape[0]\n",
    "    ok = df_evm.shape[0]\n",
    "    failed = df_exception.shape[0]\n",
    "    print(\"No entry: {} - {}\".format(no_entry, round(no_entry/total * 100)))\n",
    "    print(\"OK: {} - {}\".format(ok, round(ok/total * 100)))\n",
    "    print(\"Failed: {} - {}\".format(failed, round(failed/total * 100)))\n",
    "    print(\"Heap: \" + str(df_exception[\"heap\"].sum()))\n",
    "    print(\"Timeout: \" + str(df_exception[\"timeout\"].sum()))\n",
    "    print(\"AST: \" + str(df_exception[\"others\"].sum()))\n",
    "    df_evm[\"coverage\"] = round((df_evm[\"covered_jumpis\"] + 1) / (df_evm[\"total_jumpis\"] + 1) * 100)\n",
    "    df = df_evm[df_evm[\"coverage\"] >= 95]\n",
    "    print(\"under_95: \" + str(df_evm.shape[0] - df.shape[0]))\n",
    "    print(\"over_95 : \" + str(df.shape[0]))\n",
    "    "
   ]
  },
  {
   "cell_type": "markdown",
   "metadata": {},
   "source": [
    "# Duration"
   ]
  },
  {
   "cell_type": "code",
   "execution_count": 99,
   "metadata": {},
   "outputs": [
    {
     "data": {
      "image/png": "[encoded data removed]",
      "text/plain": [
       "<Figure size 432x288 with 1 Axes>"
      ]
     },
     "metadata": {
      "needs_background": "light"
     },
     "output_type": "display_data"
    }
   ],
   "source": [
    "if True:\n",
    "    sym_evm_path = \"results/sym_evm.csv\"\n",
    "    df = pd.read_csv(sym_evm_path)\n",
    "    df[\"coverage\"] = round((df[\"covered_jumpis\"] + 1) / (df[\"total_jumpis\"] + 1) * 100)\n",
    "    df = df[df[\"coverage\"] >= 95]\n",
    "    ###\n",
    "    df = df.sort_values(by=\"endpoints\")\n",
    "    fig = plt.figure()\n",
    "    xs = range(0, df.shape[0])\n",
    "    concolic = df[\"concolic_duration\"].values / 60000\n",
    "    tainting = df[\"tainting_duration\"].values / 60000\n",
    "    scan = df[\"scanner_duration\"].values / 60000\n",
    "    plt.bar(xs, concolic, label = \"SEVM\")\n",
    "    plt.bar(xs, tainting, bottom = concolic, label = \"Dependency Tree\")\n",
    "    plt.bar(xs, scan, bottom = concolic + tainting, label = \"Vulnerability\")\n",
    "    plt.xlabel(\"Number of contracts\")\n",
    "    plt.ylabel(\"Duration (minutes)\")\n",
    "    plt.legend(frameon=False)\n",
    "    plt.tight_layout()\n",
    "    plt.plot()\n",
    "    fig.savefig('duration.eps', format='eps')"
   ]
  },
  {
   "cell_type": "markdown",
   "metadata": {},
   "source": [
    "# 1. Draw execution paths"
   ]
  },
  {
   "cell_type": "code",
   "execution_count": 101,
   "metadata": {},
   "outputs": [
    {
     "data": {
      "image/png": "[encoded data removed]",
      "text/plain": [
       "<Figure size 432x288 with 1 Axes>"
      ]
     },
     "metadata": {
      "needs_background": "light"
     },
     "output_type": "display_data"
    }
   ],
   "source": [
    "if True:\n",
    "    sym_evm_path = \"results/sym_evm.csv\"\n",
    "    df = pd.read_csv(sym_evm_path)\n",
    "    df[\"coverage\"] = round((df[\"covered_jumpis\"] + 1) / (df[\"total_jumpis\"] + 1) * 100)\n",
    "    df = df[df[\"coverage\"] >= 95]\n",
    "    ###\n",
    "    df = df.sort_values(by=\"endpoints\")\n",
    "    fig = plt.figure()\n",
    "    plt.bar(xs, df[\"endpoints\"].values, label=\"execution paths\")\n",
    "    plt.xlabel(\"Number of contracts\")\n",
    "    plt.ylabel(\"Number of execution paths\") \n",
    "    fig.savefig('complexity.eps', format='eps')\n",
    "    ## more info\n",
    "#     print(df[\"endpoints\"].mean())"
   ]
  },
  {
   "cell_type": "markdown",
   "metadata": {},
   "source": [
    "# 4.1. Draw tainting for each type"
   ]
  },
  {
   "cell_type": "code",
   "execution_count": 107,
   "metadata": {},
   "outputs": [
    {
     "data": {
      "image/png": "[encoded data removed]",
      "text/plain": [
       "<Figure size 432x288 with 1 Axes>"
      ]
     },
     "metadata": {
      "needs_background": "light"
     },
     "output_type": "display_data"
    }
   ],
   "source": [
    "if True:\n",
    "    sym_evm_path = \"results/sym_evm.csv\"\n",
    "    df = pd.read_csv(sym_evm_path)\n",
    "    df[\"coverage\"] = round((df[\"covered_jumpis\"] + 1) / (df[\"total_jumpis\"] + 1) * 100)\n",
    "    df = df[df[\"coverage\"] >= 95]\n",
    "    xs = np.array([\n",
    "        \"sloads\",\n",
    "        \"mloads\",\n",
    "        \"mstores\",\n",
    "        \"sstores\",\n",
    "    ])\n",
    "    fig = plt.figure()\n",
    "    success_sloads = df[\"success_sloads\"].sum()\n",
    "    success_mloads = df[\"success_mloads\"].sum()\n",
    "    success_mstores = df[\"success_mstores\"].sum()\n",
    "    success_sstores = df[\"success_sstores\"].sum()\n",
    "    success = np.array([success_sloads, success_mloads, success_mstores, success_sstores])\n",
    "    plt.bar(xs, success, label=\"Success\")\n",
    "    \n",
    "    failed_sloads = df[\"failed_sloads\"].sum()\n",
    "    failed_mloads = df[\"failed_mloads\"].sum()\n",
    "    failed_mstores = df[\"failed_mstores\"].sum()\n",
    "    failed_sstores = df[\"failed_sstores\"].sum()\n",
    "    \n",
    "    failure = np.array([failed_sloads, failed_mloads, failed_mstores, failed_sstores])\n",
    "    plt.bar(xs, failure, bottom=success, label=\"Failure\")\n",
    "    plt.ylabel(\"Number of coversion requests\")\n",
    "    plt.xlabel(\"Memory and storage operations\")\n",
    "    plt.legend(frameon=False, loc=\"upper right\")\n",
    "    plt.tight_layout()\n",
    "    plt.show()\n",
    "    fig.savefig('taint_analysis.eps', format='eps')\n",
    "    ### info\n",
    "#     print(success_sloads / (success_sloads + failed_sloads) * 100))\n",
    "#     print(success_mloads / (success_mloads + failed_mloads) * 100))\n",
    "#     print(success_mstores / (success_mstores + failed_mstores) * 100))\n",
    "#     print(success_sstores / (success_sstores + failed_sstores) * 100))"
   ]
  },
  {
   "cell_type": "markdown",
   "metadata": {},
   "source": [
    "# 5. Bugs"
   ]
  },
  {
   "cell_type": "code",
   "execution_count": 23,
   "metadata": {},
   "outputs": [
    {
     "name": "stderr",
     "output_type": "stream",
     "text": [
      "/usr/local/lib/python3.7/site-packages/ipykernel_launcher.py:15: SettingWithCopyWarning: \n",
      "A value is trying to be set on a copy of a slice from a DataFrame.\n",
      "Try using .loc[row_indexer,col_indexer] = value instead\n",
      "\n",
      "See the caveats in the documentation: https://pandas.pydata.org/pandas-docs/stable/user_guide/indexing.html#returning-a-view-versus-a-copy\n",
      "  from ipykernel import kernelapp as app\n"
     ]
    }
   ],
   "source": [
    "if True:\n",
    "    sym_evm_path = \"results/sym_evm.csv\"\n",
    "    df = pd.read_csv(sym_evm_path)\n",
    "    df[\"coverage\"] = round((df[\"covered_jumpis\"] + 1) / (df[\"total_jumpis\"] + 1) * 100)\n",
    "    df = df[df[\"coverage\"] >= 95]\n",
    "    ##\n",
    "    dd = df[\n",
    "        (df[\"reentrancy\"] >= 1) \n",
    "#         | (df[\"delegate\"] >= 1)\n",
    "#         | (df[\"number\"] >= 1)\n",
    "#         | (df[\"timestamp\"] >= 1)\n",
    "        |(df[\"disorder\"] >= 1)\n",
    "        |(df[\"frez\"] >= 1)\n",
    "    ]\n",
    "    dd[\"links\"] = \"https://etherscan.io/address/\" + df[\"address\"]\n",
    "    dd = dd[[\"links\", \"address\", \"reentrancy\", \"disorder\", \"frez\"]]\n",
    "    dd.to_csv(\"manual_check.csv\")"
   ]
  },
  {
   "cell_type": "markdown",
   "metadata": {},
   "source": [
    "## Manually investigate"
   ]
  },
  {
   "cell_type": "markdown",
   "metadata": {},
   "source": [
    "- 0x8413746b162795eff7d3c8a90e32b8921413b802 | => Ok\n",
    "- 0x66fd89c9917abbc157a2131096eb6fbd95bf6da7 | => problem with fixing id\n",
    "- 0x8b3e6e910dfd6b406f9f15962b3656e799f60d2b | => AST problem \n",
    "- 0x7a78e3d47c9e20836aca681956d8a972c0c79389 | => AST problem\n",
    "- 0x36d9d5d74940e1c659c8a92eaf654c2caede77ba | => AST problem\n",
    "- 0x5258e3c9783908907cd44cd1911fc1492e81cea2 | => AST problem\n",
    "- 0x5b63759a10f12c054039cdd5e302e65701d5b483 | => OK\n",
    "- 0x1c097eaf035d39952fb5465d124c7ce39b3414f3 | => Fail to to view abstract function\n",
    "- 0xde5e0502d6835ef60312be880538c2145971d098 | => srcmap is inaccrurate\n",
    "- "
   ]
  },
  {
   "cell_type": "code",
   "execution_count": null,
   "metadata": {},
   "outputs": [],
   "source": [
    "version > 0.5.4"
   ]
  }
 ],
 "metadata": {
  "kernelspec": {
   "display_name": "Python 3",
   "language": "python",
   "name": "python3"
  },
  "language_info": {
   "codemirror_mode": {
    "name": "ipython",
    "version": 3
   },
   "file_extension": ".py",
   "mimetype": "text/x-python",
   "name": "python",
   "nbconvert_exporter": "python",
   "pygments_lexer": "ipython3",
   "version": "3.7.7"
  }
 },
 "nbformat": 4,
 "nbformat_minor": 4
}
